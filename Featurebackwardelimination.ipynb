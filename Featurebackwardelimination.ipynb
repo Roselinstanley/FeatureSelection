{
 "cells": [
  {
   "cell_type": "code",
   "execution_count": 1,
   "id": "1a0f0b69-c1b9-4995-930d-f09fdb5d44d7",
   "metadata": {},
   "outputs": [],
   "source": [
    "#pip install mlxtend"
   ]
  },
  {
   "cell_type": "code",
   "execution_count": 2,
   "id": "82c55f55-1005-46fd-a6fe-197104db93e7",
   "metadata": {},
   "outputs": [],
   "source": [
    "import pandas as pd\n",
    "import numpy as np\n",
    "from sklearn.model_selection import train_test_split\n",
    "from sklearn.feature_selection import SelectKBest\n",
    "from sklearn.feature_selection import chi2\n",
    "from sklearn.linear_model import LogisticRegression\n",
    "from sklearn.inspection import permutation_importance\n",
    "from mlxtend.feature_selection import SequentialFeatureSelector as SFS"
   ]
  },
  {
   "cell_type": "code",
   "execution_count": 3,
   "id": "75044e83-8438-49e4-b4eb-8d32e028c1e3",
   "metadata": {},
   "outputs": [],
   "source": [
    "def splitdata(indepX,depY):\n",
    "    x_train,x_test,y_train,y_test=train_test_split(indepX,depY,test_size=0.30,random_state=0)\n",
    "    from sklearn.preprocessing import StandardScaler\n",
    "    sc=StandardScaler()\n",
    "    x_train=sc.fit_transform(x_train)\n",
    "    x_test=sc.transform(x_test)\n",
    "    return x_train,x_test,y_train,y_test"
   ]
  },
  {
   "cell_type": "code",
   "execution_count": 4,
   "id": "3671eb2b-fbdd-4476-a5e2-003ee398ccbe",
   "metadata": {},
   "outputs": [],
   "source": [
    "def rscorecal(regressor,x_test,y_test):\n",
    "    from sklearn.metrics import r2_score\n",
    "    y_pred=regressor.predict(x_test)\n",
    "    rscore=r2_score(y_test,y_pred)\n",
    "    return rscore"
   ]
  },
  {
   "cell_type": "code",
   "execution_count": 5,
   "id": "9c0a72ba-784f-4de4-aa1c-36319f15ca2a",
   "metadata": {},
   "outputs": [],
   "source": [
    "def linear(x_train,y_train,x_test):\n",
    "    from sklearn.linear_model import LinearRegression\n",
    "    lr=LinearRegression()\n",
    "    sbs = SFS(lr, k_features=3, forward=False, floating=False, scoring='r2')\n",
    "    sbs=sbs.fit(x_train,y_train)\n",
    "   # Get the selected features\n",
    "    selfea_list = sbs.k_feature_idx_\n",
    "    print(\"Selected feature indices:\", selfea_list)\n",
    "    lr.fit(x_train[:, selfea_list], y_train)\n",
    "    # Calculate R-squared score on the test set using selected features (NumPy indexing)\n",
    "    R_score = rscorecal(lr, x_test[:, selfea_list], y_test)\n",
    "    coefficients = lr.coef_\n",
    "    # Display feature importance\n",
    "    features = [f'Feature {i}' for i in range(x_train[:, selfea_list].shape[1])]\n",
    "    importance_df = pd.DataFrame({'Feature': features, 'Importance': coefficients})\n",
    "    importance_df.sort_values(by='Importance', ascending=False, inplace=True)\n",
    "    print(importance_df)\n",
    "    return R_score"
   ]
  },
  {
   "cell_type": "code",
   "execution_count": 6,
   "id": "eb99f445-dd3f-44b7-8cb2-c2d29220d612",
   "metadata": {},
   "outputs": [],
   "source": [
    "dataset=pd.read_csv('prep.csv')"
   ]
  },
  {
   "cell_type": "code",
   "execution_count": 7,
   "id": "e2778ba8-300e-4ad3-bed8-3f0e8083b414",
   "metadata": {},
   "outputs": [],
   "source": [
    "dataset=pd.get_dummies(dataset,drop_first=True)"
   ]
  },
  {
   "cell_type": "code",
   "execution_count": 8,
   "id": "ed5d8a19-1fbf-4595-a234-14b1ee1a977d",
   "metadata": {},
   "outputs": [],
   "source": [
    "indepX=dataset.drop('classification_yes',axis=1)\n",
    "depY=dataset['classification_yes']"
   ]
  },
  {
   "cell_type": "code",
   "execution_count": 9,
   "id": "07a4ef5d-d473-412a-9a5d-7fb83b3df55a",
   "metadata": {},
   "outputs": [],
   "source": [
    "def selectkregressor(rsclin):\n",
    "    df=pd.DataFrame(index=['chi_square'],columns=['Linear'])\n",
    "    for num,idex in enumerate(df.index):\n",
    "        df['Linear'][idex]=rsclin[num]\n",
    "        #df['RandomForest'][idex]=rsclin[num]\n",
    "        return df"
   ]
  },
  {
   "cell_type": "code",
   "execution_count": 10,
   "id": "234dd2e9-0605-4538-8622-c3e319fa9293",
   "metadata": {},
   "outputs": [],
   "source": [
    "x_train,x_test,y_train,y_test=splitdata(indepX,depY)"
   ]
  },
  {
   "cell_type": "code",
   "execution_count": 11,
   "id": "f615c903-6743-4091-b861-f0e330223c54",
   "metadata": {},
   "outputs": [],
   "source": [
    "rsclin=[]\n",
    "#rsrfr=[]"
   ]
  },
  {
   "cell_type": "code",
   "execution_count": 12,
   "id": "702cd2f5-5f7b-4763-996b-c07dd58581e9",
   "metadata": {},
   "outputs": [
    {
     "name": "stdout",
     "output_type": "stream",
     "text": [
      "Selected feature indices: (9, 14, 15)\n",
      "     Feature  Importance\n",
      "1  Feature 1    0.156524\n",
      "2  Feature 2    0.145964\n",
      "0  Feature 0   -0.275142\n"
     ]
    }
   ],
   "source": [
    "    rsclin.append(linear(x_train,y_train,x_test))\n",
    "    #rsrfr.append(Random(x_train,y_train,x_test,indepX))"
   ]
  },
  {
   "cell_type": "code",
   "execution_count": 13,
   "id": "df79f5ca-f774-4024-9597-c295d642ae42",
   "metadata": {},
   "outputs": [
    {
     "name": "stderr",
     "output_type": "stream",
     "text": [
      "C:\\Users\\Admin\\AppData\\Local\\Temp\\ipykernel_7944\\2726242617.py:4: FutureWarning: ChainedAssignmentError: behaviour will change in pandas 3.0!\n",
      "You are setting values through chained assignment. Currently this works in certain cases, but when using Copy-on-Write (which will become the default behaviour in pandas 3.0) this will never work to update the original DataFrame or Series, because the intermediate object on which we are setting values will behave as a copy.\n",
      "A typical example is when you are setting values in a column of a DataFrame, like:\n",
      "\n",
      "df[\"col\"][row_indexer] = value\n",
      "\n",
      "Use `df.loc[row_indexer, \"col\"] = values` instead, to perform the assignment in a single step and ensure this keeps updating the original `df`.\n",
      "\n",
      "See the caveats in the documentation: https://pandas.pydata.org/pandas-docs/stable/user_guide/indexing.html#returning-a-view-versus-a-copy\n",
      "\n",
      "  df['Linear'][idex]=rsclin[num]\n"
     ]
    },
    {
     "data": {
      "text/html": [
       "<div>\n",
       "<style scoped>\n",
       "    .dataframe tbody tr th:only-of-type {\n",
       "        vertical-align: middle;\n",
       "    }\n",
       "\n",
       "    .dataframe tbody tr th {\n",
       "        vertical-align: top;\n",
       "    }\n",
       "\n",
       "    .dataframe thead th {\n",
       "        text-align: right;\n",
       "    }\n",
       "</style>\n",
       "<table border=\"1\" class=\"dataframe\">\n",
       "  <thead>\n",
       "    <tr style=\"text-align: right;\">\n",
       "      <th></th>\n",
       "      <th>Linear</th>\n",
       "    </tr>\n",
       "  </thead>\n",
       "  <tbody>\n",
       "    <tr>\n",
       "      <th>chi_square</th>\n",
       "      <td>0.683544</td>\n",
       "    </tr>\n",
       "  </tbody>\n",
       "</table>\n",
       "</div>"
      ],
      "text/plain": [
       "              Linear\n",
       "chi_square  0.683544"
      ]
     },
     "execution_count": 13,
     "metadata": {},
     "output_type": "execute_result"
    }
   ],
   "source": [
    "result=selectkregressor(rsclin)\n",
    "result"
   ]
  },
  {
   "cell_type": "code",
   "execution_count": null,
   "id": "c29265d6-e98a-4d53-bed5-b58bdd07465f",
   "metadata": {},
   "outputs": [],
   "source": []
  }
 ],
 "metadata": {
  "kernelspec": {
   "display_name": "Python 3 (ipykernel)",
   "language": "python",
   "name": "python3"
  },
  "language_info": {
   "codemirror_mode": {
    "name": "ipython",
    "version": 3
   },
   "file_extension": ".py",
   "mimetype": "text/x-python",
   "name": "python",
   "nbconvert_exporter": "python",
   "pygments_lexer": "ipython3",
   "version": "3.12.4"
  }
 },
 "nbformat": 4,
 "nbformat_minor": 5
}
