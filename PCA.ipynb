{
 "cells": [
  {
   "cell_type": "code",
   "execution_count": 1,
   "id": "30fd4309-c0bf-45e8-8ad1-24eee0d1632e",
   "metadata": {},
   "outputs": [],
   "source": [
    "import pandas as pd\n",
    "import numpy as np\n",
    "from sklearn.model_selection import train_test_split\n",
    "from sklearn.preprocessing import StandardScaler\n",
    "from sklearn.linear_model import LogisticRegression\n",
    "from sklearn.tree import DecisionTreeClassifier\n",
    "from sklearn.ensemble import RandomForestClassifier\n",
    "from sklearn.svm import SVC\n",
    "from sklearn.decomposition import PCA\n",
    "from sklearn.metrics import confusion_matrix\n",
    "from sklearn.metrics import accuracy_score\n",
    "from sklearn.metrics import classification_report"
   ]
  },
  {
   "cell_type": "code",
   "execution_count": 2,
   "id": "66a309b0-a0c3-4273-b8cc-599ff972192c",
   "metadata": {},
   "outputs": [],
   "source": [
    "#PCA Dimensionality Reduction\n",
    "def pcared(x_train,x_test,n):\n",
    "    feature_names = [f'Feature{i+1}' for i in range(x_train.shape[1])]\n",
    "    pca=PCA(n_components=n)\n",
    "    pcafit=pca.fit_transform(x_train)\n",
    "    pcafea=pca.transform(x_test)\n",
    "    principalDf = pd.DataFrame(data = pcafit, columns = ['principal component 1', 'principal component 2'])\n",
    "    print(principalDf)\n",
    "    #components_df = pd.DataFrame(pca.components_, columns=feature_names)\n",
    "    #print(\"Principal Components (Selected Features):\")\n",
    "    #print(components_df)\n",
    "    explained_variance = pca.explained_variance_ratio_\n",
    "    return pcafit,pcafea"
   ]
  },
  {
   "cell_type": "code",
   "execution_count": 3,
   "id": "e0536661-f745-4d04-a3fd-6c192f515923",
   "metadata": {},
   "outputs": [],
   "source": [
    "def standardscaler(indepX,depY):\n",
    "    #Train and Test set split\n",
    "    x_train,x_test,y_train,y_test=train_test_split(indepX,depY,test_size=0.30,random_state=0)\n",
    "    sc=StandardScaler()\n",
    "    x_train=sc.fit_transform(x_train)\n",
    "    x_test=sc.transform(x_test)\n",
    "    return x_train,x_test,y_train,y_test"
   ]
  },
  {
   "cell_type": "code",
   "execution_count": 4,
   "id": "e40df2c2-991b-4817-9fd1-3af81a64eae8",
   "metadata": {},
   "outputs": [],
   "source": [
    "def cmreport(classifier,x_test):\n",
    "    y_pred=classifier.predict(x_test)\n",
    "    cm=confusion_matrix(y_test,y_pred)\n",
    "    accuracy=accuracy_score(y_test,y_pred)\n",
    "    clr=classification_report(y_test,y_pred)\n",
    "    return classifier,cm,accuracy,clr,x_test,y_test"
   ]
  },
  {
   "cell_type": "code",
   "execution_count": 5,
   "id": "c3156b54-bfd5-49dc-a173-4f8dead08b2b",
   "metadata": {},
   "outputs": [],
   "source": [
    "#Logistic Regression\n",
    "def logistic(x_train,y_train,x_test):\n",
    "    lrclassifier=LogisticRegression(random_state=0)\n",
    "    lrclassifier.fit(x_train,y_train)\n",
    "    classifier,cm,accuracy,clr,x_test,y_test=cmreport(lrclassifier,x_test)\n",
    "    return classifier,cm,accuracy,clr,x_test,y_test"
   ]
  },
  {
   "cell_type": "code",
   "execution_count": 6,
   "id": "a31f5ab4-7a65-4243-a218-35628b1b2eda",
   "metadata": {},
   "outputs": [],
   "source": [
    "def svmlinear(x_train,y_train,x_test):\n",
    "    from sklearn.svm import SVC\n",
    "    svli=SVC(kernel='linear',random_state=0)   \n",
    "    svli.fit(x_train,y_train)\n",
    "    classifier,cm,accuracy,clr,x_test,y_test=cmreport(svli,x_test)\n",
    "    return classifier,cm,accuracy,clr,x_test,y_test"
   ]
  },
  {
   "cell_type": "code",
   "execution_count": 7,
   "id": "2ef483eb-57a4-4818-ba54-c0dc0b7ee8d1",
   "metadata": {},
   "outputs": [],
   "source": [
    "def Random(x_train,y_train,x_test):\n",
    "    from sklearn.ensemble import RandomForestClassifier\n",
    "    RFC=RandomForestClassifier(n_estimators=10,criterion='entropy',random_state=0)\n",
    "    RFC.fit(x_train,y_train)\n",
    "    classifier,cm,accuracy,clr,x_test,y_test=cmreport(RFC,x_test)\n",
    "    return classifier,cm,accuracy,clr,x_test,y_test"
   ]
  },
  {
   "cell_type": "code",
   "execution_count": 8,
   "id": "9dbe2eac-dfd1-4baa-924e-50ec4c585168",
   "metadata": {},
   "outputs": [],
   "source": [
    "def pcaconfusion(acclog,accsvmli,accran):\n",
    "    df=pd.DataFrame(index=['PCA'],columns=['Logistic','SVMLinear','Random'])\n",
    "    for number,idex in enumerate(df.index):\n",
    "        df.loc[idex, 'Logistic'] = acclog[number]\n",
    "        df.loc[idex, 'SVMLinear'] = accsvmli[number]\n",
    "        df.loc[idex, 'Random'] = accran[number]\n",
    "        return df"
   ]
  },
  {
   "cell_type": "code",
   "execution_count": 9,
   "id": "48f132b1-13ba-4a1c-b757-68330a02db07",
   "metadata": {},
   "outputs": [],
   "source": [
    "dataset=pd.read_csv(\"wine.csv\",index_col=None)"
   ]
  },
  {
   "cell_type": "code",
   "execution_count": 10,
   "id": "24a9c5ba-ef98-40e0-a1e3-09d758b38bf3",
   "metadata": {},
   "outputs": [],
   "source": [
    "#Input and Output Split\n",
    "indepX=dataset.drop('Customer_Segment',axis=1)\n",
    "depY=dataset['Customer_Segment']"
   ]
  },
  {
   "cell_type": "code",
   "execution_count": 11,
   "id": "bc76ed01-b66e-4a4e-900f-1e47577cdd01",
   "metadata": {},
   "outputs": [],
   "source": [
    " x_train,x_test,y_train,y_test=standardscaler(indepX,depY)"
   ]
  },
  {
   "cell_type": "code",
   "execution_count": 12,
   "id": "ea925ba9-a7fc-4997-b2bb-81a6520f84b8",
   "metadata": {},
   "outputs": [
    {
     "name": "stdout",
     "output_type": "stream",
     "text": [
      "     principal component 1  principal component 2\n",
      "0                 2.598916              -0.004841\n",
      "1                 0.158191               2.266596\n",
      "2                -2.637234              -2.664886\n",
      "3                -2.528484              -0.518466\n",
      "4                 1.709226               0.917195\n",
      "..                     ...                    ...\n",
      "119              -0.527714               2.594728\n",
      "120               0.311281               2.286773\n",
      "121              -0.065267               2.043609\n",
      "122               2.918355              -0.820357\n",
      "123              -2.407199              -2.236123\n",
      "\n",
      "[124 rows x 2 columns]\n"
     ]
    }
   ],
   "source": [
    "x_train,x_test=pcared(x_train,x_test,2)    "
   ]
  },
  {
   "cell_type": "code",
   "execution_count": 13,
   "id": "385f462c-ede4-4644-b6eb-914636dd382c",
   "metadata": {},
   "outputs": [],
   "source": [
    "acclog=[]\n",
    "accsvmli=[]\n",
    "accran=[]"
   ]
  },
  {
   "cell_type": "code",
   "execution_count": 14,
   "id": "351efa1d-c29a-4ac4-a8d6-ce781dd520ca",
   "metadata": {},
   "outputs": [],
   "source": [
    "classifier,cm,accuracy,clr,x_test,y_test=logistic(x_train,y_train,x_test)\n",
    "acclog.append(accuracy)\n",
    "classifier,cm,accuracy,clr,x_test,y_test=svmlinear(x_train,y_train,x_test)\n",
    "accsvmli.append(accuracy)\n",
    "classifier,cm,accuracy,clr,x_test,y_test=Random(x_train,y_train,x_test)\n",
    "accran.append(accuracy)"
   ]
  },
  {
   "cell_type": "code",
   "execution_count": 15,
   "id": "eeadf88a-0c9c-4396-be5b-cee0ad4f9ed1",
   "metadata": {},
   "outputs": [
    {
     "name": "stdout",
     "output_type": "stream",
     "text": [
      "     Logistic SVMLinear    Random\n",
      "PCA  0.981481  0.981481  0.981481\n"
     ]
    }
   ],
   "source": [
    "result=pcaconfusion(acclog,accsvmli,accran)\n",
    "print(result)"
   ]
  },
  {
   "cell_type": "code",
   "execution_count": null,
   "id": "5714585e-af2d-4952-a89d-ad068b538a89",
   "metadata": {},
   "outputs": [],
   "source": []
  }
 ],
 "metadata": {
  "kernelspec": {
   "display_name": "Python 3 (ipykernel)",
   "language": "python",
   "name": "python3"
  },
  "language_info": {
   "codemirror_mode": {
    "name": "ipython",
    "version": 3
   },
   "file_extension": ".py",
   "mimetype": "text/x-python",
   "name": "python",
   "nbconvert_exporter": "python",
   "pygments_lexer": "ipython3",
   "version": "3.12.4"
  }
 },
 "nbformat": 4,
 "nbformat_minor": 5
}
