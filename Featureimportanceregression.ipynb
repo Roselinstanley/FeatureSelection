{
 "cells": [
  {
   "cell_type": "code",
   "execution_count": 1,
   "id": "82c55f55-1005-46fd-a6fe-197104db93e7",
   "metadata": {},
   "outputs": [],
   "source": [
    "import pandas as pd\n",
    "import numpy as np\n",
    "from sklearn.model_selection import train_test_split\n",
    "from sklearn.feature_selection import SelectKBest\n",
    "from sklearn.feature_selection import chi2\n",
    "from sklearn.linear_model import LogisticRegression\n",
    "from sklearn.inspection import permutation_importance"
   ]
  },
  {
   "cell_type": "code",
   "execution_count": 2,
   "id": "75044e83-8438-49e4-b4eb-8d32e028c1e3",
   "metadata": {},
   "outputs": [],
   "source": [
    "def splitdata(indepX,depY):\n",
    "    x_train,x_test,y_train,y_test=train_test_split(indepX,depY,test_size=0.30,random_state=0)\n",
    "    from sklearn.preprocessing import StandardScaler\n",
    "    sc=StandardScaler()\n",
    "    x_train=sc.fit_transform(x_train)\n",
    "    x_test=sc.transform(x_test)\n",
    "    return x_train,x_test,y_train,y_test"
   ]
  },
  {
   "cell_type": "code",
   "execution_count": 3,
   "id": "3671eb2b-fbdd-4476-a5e2-003ee398ccbe",
   "metadata": {},
   "outputs": [],
   "source": [
    "def rscorecal(regressor,x_test,y_test):\n",
    "    from sklearn.metrics import r2_score\n",
    "    y_pred=regressor.predict(x_test)\n",
    "    rscore=r2_score(y_test,y_pred)\n",
    "    return rscore"
   ]
  },
  {
   "cell_type": "code",
   "execution_count": 4,
   "id": "9c0a72ba-784f-4de4-aa1c-36319f15ca2a",
   "metadata": {},
   "outputs": [],
   "source": [
    "def linear(x_train,y_train,x_test):\n",
    "    from sklearn.linear_model import LinearRegression\n",
    "    lr=LinearRegression()\n",
    "    lr.fit(x_train,y_train)\n",
    "    R_score=rscorecal(lr,x_test,y_test)\n",
    "    coefficients = lr.coef_\n",
    "    # Display feature importance\n",
    "    features = [f'Feature {i}' for i in range(x_train.shape[1])]\n",
    "    importance_df = pd.DataFrame({'Feature': features, 'Importance': coefficients})\n",
    "    importance_df.sort_values(by='Importance', ascending=False, inplace=True)\n",
    "    print(importance_df)\n",
    "    return R_score"
   ]
  },
  {
   "cell_type": "code",
   "execution_count": 5,
   "id": "ed83a70f-2969-4cb3-af47-5b1822fc69d8",
   "metadata": {},
   "outputs": [],
   "source": [
    "def Random(x_train,y_train,x_test,indepX):\n",
    "    from sklearn.ensemble import RandomForestRegressor\n",
    "    rfr=RandomForestRegressor(n_estimators=10,random_state=0)\n",
    "    rfr.fit(x_train,y_train)\n",
    "    feature_names=list(indepX)\n",
    "    importances = rfr.feature_importances_\n",
    "    feature_imp_df = pd.DataFrame({'Feature': feature_names, 'Gini Importance': importances}).sort_values('Gini Importance', ascending=False) \n",
    "    print(feature_imp_df)\n",
    "    R_score=rscorecal(rfr,x_test,y_test)\n",
    "    return R_score"
   ]
  },
  {
   "cell_type": "code",
   "execution_count": 6,
   "id": "eb99f445-dd3f-44b7-8cb2-c2d29220d612",
   "metadata": {},
   "outputs": [],
   "source": [
    "dataset=pd.read_csv('prep.csv')"
   ]
  },
  {
   "cell_type": "code",
   "execution_count": 7,
   "id": "e2778ba8-300e-4ad3-bed8-3f0e8083b414",
   "metadata": {},
   "outputs": [],
   "source": [
    "dataset=pd.get_dummies(dataset,drop_first=True)"
   ]
  },
  {
   "cell_type": "code",
   "execution_count": 8,
   "id": "ed5d8a19-1fbf-4595-a234-14b1ee1a977d",
   "metadata": {},
   "outputs": [],
   "source": [
    "indepX=dataset.drop('classification_yes',axis=1)\n",
    "depY=dataset['classification_yes']"
   ]
  },
  {
   "cell_type": "code",
   "execution_count": 9,
   "id": "07a4ef5d-d473-412a-9a5d-7fb83b3df55a",
   "metadata": {},
   "outputs": [],
   "source": [
    "def selectkregressor(rsclin,rsrfr):\n",
    "    df=pd.DataFrame(index=['chi_square'],columns=['Linear','RandomForest'])\n",
    "    for num,idex in enumerate(df.index):\n",
    "        df['Linear'][idex]=rsclin[num]\n",
    "        df['RandomForest'][idex]=rsclin[num]\n",
    "        return df"
   ]
  },
  {
   "cell_type": "code",
   "execution_count": 10,
   "id": "234dd2e9-0605-4538-8622-c3e319fa9293",
   "metadata": {},
   "outputs": [],
   "source": [
    "x_train,x_test,y_train,y_test=splitdata(indepX,depY)"
   ]
  },
  {
   "cell_type": "code",
   "execution_count": 11,
   "id": "f615c903-6743-4091-b861-f0e330223c54",
   "metadata": {},
   "outputs": [],
   "source": [
    "rsclin=[]\n",
    "rsrfr=[]"
   ]
  },
  {
   "cell_type": "code",
   "execution_count": 12,
   "id": "702cd2f5-5f7b-4763-996b-c07dd58581e9",
   "metadata": {},
   "outputs": [
    {
     "name": "stdout",
     "output_type": "stream",
     "text": [
      "       Feature  Importance\n",
      "15  Feature 15    0.120796\n",
      "14  Feature 14    0.115290\n",
      "22  Feature 22    0.062726\n",
      "8    Feature 8    0.057853\n",
      "21  Feature 21    0.052126\n",
      "16  Feature 16    0.032694\n",
      "11  Feature 11    0.030860\n",
      "1    Feature 1    0.028011\n",
      "4    Feature 4    0.025734\n",
      "25  Feature 25    0.004456\n",
      "0    Feature 0    0.003834\n",
      "18  Feature 18    0.000693\n",
      "2    Feature 2   -0.001696\n",
      "19  Feature 19   -0.001913\n",
      "23  Feature 23   -0.004796\n",
      "20  Feature 20   -0.012676\n",
      "3    Feature 3   -0.012877\n",
      "10  Feature 10   -0.014832\n",
      "26  Feature 26   -0.016296\n",
      "24  Feature 24   -0.017141\n",
      "12  Feature 12   -0.022873\n",
      "5    Feature 5   -0.030810\n",
      "17  Feature 17   -0.031789\n",
      "6    Feature 6   -0.051204\n",
      "13  Feature 13   -0.070438\n",
      "7    Feature 7   -0.082017\n",
      "9    Feature 9   -0.160819\n",
      "        Feature  Gini Importance\n",
      "9          hrmo         0.760642\n",
      "4           bgr         0.054983\n",
      "22       dm_yes         0.040379\n",
      "12           rc         0.037254\n",
      "2            al         0.028840\n",
      "14         sg_c         0.021107\n",
      "0           age         0.011494\n",
      "5            bu         0.008409\n",
      "10          pcv         0.008142\n",
      "8           pot         0.008093\n",
      "1            bp         0.005853\n",
      "21      htn_yes         0.004362\n",
      "6            sc         0.004271\n",
      "15         sg_d         0.003423\n",
      "17   rbc_normal         0.001530\n",
      "11           wc         0.001216\n",
      "20   ba_present         0.000000\n",
      "24    appet_yes         0.000000\n",
      "23      cad_yes         0.000000\n",
      "25       pe_yes         0.000000\n",
      "13         sg_b         0.000000\n",
      "19  pcc_present         0.000000\n",
      "18    pc_normal         0.000000\n",
      "16         sg_e         0.000000\n",
      "7           sod         0.000000\n",
      "3            su         0.000000\n",
      "26      ane_yes         0.000000\n"
     ]
    }
   ],
   "source": [
    "    rsclin.append(linear(x_train,y_train,x_test))\n",
    "    rsrfr.append(Random(x_train,y_train,x_test,indepX))"
   ]
  },
  {
   "cell_type": "code",
   "execution_count": 13,
   "id": "df79f5ca-f774-4024-9597-c295d642ae42",
   "metadata": {},
   "outputs": [
    {
     "name": "stderr",
     "output_type": "stream",
     "text": [
      "C:\\Users\\Admin\\AppData\\Local\\Temp\\ipykernel_14808\\2913383091.py:4: FutureWarning: ChainedAssignmentError: behaviour will change in pandas 3.0!\n",
      "You are setting values through chained assignment. Currently this works in certain cases, but when using Copy-on-Write (which will become the default behaviour in pandas 3.0) this will never work to update the original DataFrame or Series, because the intermediate object on which we are setting values will behave as a copy.\n",
      "A typical example is when you are setting values in a column of a DataFrame, like:\n",
      "\n",
      "df[\"col\"][row_indexer] = value\n",
      "\n",
      "Use `df.loc[row_indexer, \"col\"] = values` instead, to perform the assignment in a single step and ensure this keeps updating the original `df`.\n",
      "\n",
      "See the caveats in the documentation: https://pandas.pydata.org/pandas-docs/stable/user_guide/indexing.html#returning-a-view-versus-a-copy\n",
      "\n",
      "  df['Linear'][idex]=rsclin[num]\n",
      "C:\\Users\\Admin\\AppData\\Local\\Temp\\ipykernel_14808\\2913383091.py:5: FutureWarning: ChainedAssignmentError: behaviour will change in pandas 3.0!\n",
      "You are setting values through chained assignment. Currently this works in certain cases, but when using Copy-on-Write (which will become the default behaviour in pandas 3.0) this will never work to update the original DataFrame or Series, because the intermediate object on which we are setting values will behave as a copy.\n",
      "A typical example is when you are setting values in a column of a DataFrame, like:\n",
      "\n",
      "df[\"col\"][row_indexer] = value\n",
      "\n",
      "Use `df.loc[row_indexer, \"col\"] = values` instead, to perform the assignment in a single step and ensure this keeps updating the original `df`.\n",
      "\n",
      "See the caveats in the documentation: https://pandas.pydata.org/pandas-docs/stable/user_guide/indexing.html#returning-a-view-versus-a-copy\n",
      "\n",
      "  df['RandomForest'][idex]=rsclin[num]\n"
     ]
    },
    {
     "data": {
      "text/html": [
       "<div>\n",
       "<style scoped>\n",
       "    .dataframe tbody tr th:only-of-type {\n",
       "        vertical-align: middle;\n",
       "    }\n",
       "\n",
       "    .dataframe tbody tr th {\n",
       "        vertical-align: top;\n",
       "    }\n",
       "\n",
       "    .dataframe thead th {\n",
       "        text-align: right;\n",
       "    }\n",
       "</style>\n",
       "<table border=\"1\" class=\"dataframe\">\n",
       "  <thead>\n",
       "    <tr style=\"text-align: right;\">\n",
       "      <th></th>\n",
       "      <th>Linear</th>\n",
       "      <th>RandomForest</th>\n",
       "    </tr>\n",
       "  </thead>\n",
       "  <tbody>\n",
       "    <tr>\n",
       "      <th>chi_square</th>\n",
       "      <td>0.637199</td>\n",
       "      <td>0.637199</td>\n",
       "    </tr>\n",
       "  </tbody>\n",
       "</table>\n",
       "</div>"
      ],
      "text/plain": [
       "              Linear RandomForest\n",
       "chi_square  0.637199     0.637199"
      ]
     },
     "execution_count": 13,
     "metadata": {},
     "output_type": "execute_result"
    }
   ],
   "source": [
    "result=selectkregressor(rsclin,rsrfr)\n",
    "result"
   ]
  },
  {
   "cell_type": "code",
   "execution_count": null,
   "id": "c29265d6-e98a-4d53-bed5-b58bdd07465f",
   "metadata": {},
   "outputs": [],
   "source": []
  }
 ],
 "metadata": {
  "kernelspec": {
   "display_name": "Python 3 (ipykernel)",
   "language": "python",
   "name": "python3"
  },
  "language_info": {
   "codemirror_mode": {
    "name": "ipython",
    "version": 3
   },
   "file_extension": ".py",
   "mimetype": "text/x-python",
   "name": "python",
   "nbconvert_exporter": "python",
   "pygments_lexer": "ipython3",
   "version": "3.12.4"
  }
 },
 "nbformat": 4,
 "nbformat_minor": 5
}
