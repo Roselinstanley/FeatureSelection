{
 "cells": [
  {
   "cell_type": "code",
   "execution_count": 1,
   "id": "556d3615-0d04-4abe-80f5-37b37b58f329",
   "metadata": {},
   "outputs": [],
   "source": [
    "import pandas as pd\n",
    "import numpy as np\n",
    "from sklearn.metrics import confusion_matrix\n",
    "from sklearn.metrics import accuracy_score\n",
    "from sklearn.metrics import classification_report\n",
    "from sklearn.preprocessing import StandardScaler\n",
    "from sklearn.linear_model import LogisticRegression\n",
    "from sklearn.feature_selection import SelectKBest\n",
    "from sklearn.feature_selection import chi2\n",
    "from sklearn.feature_selection import RFE\n",
    "import pickle\n",
    "from sklearn.model_selection import train_test_split"
   ]
  },
  {
   "cell_type": "code",
   "execution_count": 2,
   "id": "054b3f97-1bfe-4ccd-bbe1-29686886d6ce",
   "metadata": {},
   "outputs": [],
   "source": [
    "def featureselect(indepX,depY,n):\n",
    "    sel=SelectKBest(score_func=chi2,k=n)\n",
    "    selfit=sel.fit(indepX,depY)\n",
    "    selkfeat=selfit.transform(indepX)\n",
    "    selected_indices = selfit.get_support(indices=True)\n",
    "    feature_names = indepX.columns[selected_indices]\n",
    "    return selkfeat,feature_names"
   ]
  },
  {
   "cell_type": "code",
   "execution_count": 3,
   "id": "36b5a384-e998-42ee-a42d-df8c86e7a579",
   "metadata": {},
   "outputs": [],
   "source": [
    "def split_scaler(indepX,depY):\n",
    "    x_train,x_test,y_train,y_test=train_test_split(indepX,depY,test_size=0.30,random_state=0)\n",
    "    sc=StandardScaler()\n",
    "    x_train=sc.fit_transform(x_train)\n",
    "    x_test=sc.transform(x_test)\n",
    "    return x_train,x_test,y_train,y_test"
   ]
  },
  {
   "cell_type": "code",
   "execution_count": 4,
   "id": "6246526b-260f-4dc0-8504-a88180594aa2",
   "metadata": {},
   "outputs": [],
   "source": [
    "def cmreport(classifier,x_test):\n",
    "    y_pred=classifier.predict(x_test)\n",
    "    cm=confusion_matrix(y_test,y_pred)\n",
    "    accuracy=accuracy_score(y_test,y_pred)\n",
    "    clr=classification_report(y_test,y_pred)\n",
    "    return classifier,cm,accuracy,clr,x_test,y_test"
   ]
  },
  {
   "cell_type": "code",
   "execution_count": 5,
   "id": "ab42cc6b-be28-4fa0-a10d-48c2d9d1799b",
   "metadata": {},
   "outputs": [],
   "source": [
    "def logistic(x_train,y_train,x_test):\n",
    "    lrclassifier=LogisticRegression(random_state=0)\n",
    "    lrclassifier.fit(x_train,y_train)\n",
    "    classifier,cm,accuracy,clr,x_test,y_test=cmreport(lrclassifier,x_test)\n",
    "    return classifier,cm,accuracy,clr,x_test,y_test"
   ]
  },
  {
   "cell_type": "code",
   "execution_count": 6,
   "id": "764a04bc-e2ac-48d4-868c-3f21d5bde0fc",
   "metadata": {},
   "outputs": [],
   "source": [
    "def svmlinear(x_train,y_train,x_test):\n",
    "    from sklearn.svm import SVC\n",
    "    svli=SVC(kernel='linear',random_state=0)   \n",
    "    svli.fit(x_train,y_train)\n",
    "    classifier,cm,accuracy,clr,x_test,y_test=cmreport(svli,x_test)\n",
    "    return classifier,cm,accuracy,clr,x_test,y_test"
   ]
  },
  {
   "cell_type": "code",
   "execution_count": 7,
   "id": "63fc0fe2-15c3-4608-a545-0dc146fcb4bd",
   "metadata": {},
   "outputs": [],
   "source": [
    "def svmnl(x_train,y_train,x_test):\n",
    "    from sklearn.svm import SVC\n",
    "    svnl=SVC(kernel='rbf',random_state=0)\n",
    "    svnl.fit(x_train,y_train)\n",
    "    classifier,cm,accuracy,clr,x_test,y_test=cmreport(svnl,x_test)\n",
    "    return classifier,cm,accuracy,clr,x_test,y_test"
   ]
  },
  {
   "cell_type": "code",
   "execution_count": 8,
   "id": "7ba7aa50-f67c-4355-9419-2f46b4dab60d",
   "metadata": {},
   "outputs": [],
   "source": [
    "def naive(x_train,y_train,x_test):\n",
    "    from sklearn.naive_bayes import GaussianNB\n",
    "    GNB=GaussianNB()\n",
    "    GNB.fit(x_train,y_train)\n",
    "    classifier,cm,accuracy,clr,x_test,y_test=cmreport(GNB,x_test)\n",
    "    return classifier,cm,accuracy,clr,x_test,y_test"
   ]
  },
  {
   "cell_type": "code",
   "execution_count": 9,
   "id": "0fa982e9-159d-44fa-a96f-5a6ce8d5670b",
   "metadata": {},
   "outputs": [],
   "source": [
    "def Knn(x_train,y_train,x_test):\n",
    "    from sklearn.neighbors import KNeighborsClassifier\n",
    "    KNC=KNeighborsClassifier(n_neighbors=5,metric='minkowski',p=2)\n",
    "    KNC.fit(x_train,y_train)\n",
    "    classifier,cm,accuracy,clr,x_test,y_test=cmreport(KNC,x_test)\n",
    "    return classifier,cm,accuracy,clr,x_test,y_test"
   ]
  },
  {
   "cell_type": "code",
   "execution_count": 10,
   "id": "a6fae924-fd58-4614-b7d0-b31ae36c140f",
   "metadata": {},
   "outputs": [],
   "source": [
    "def Decision(x_train,y_train,x_test):\n",
    "    from sklearn.tree import DecisionTreeClassifier\n",
    "    DTC=DecisionTreeClassifier(criterion='entropy',random_state=0)\n",
    "    DTC.fit(x_train,y_train)\n",
    "    classifier,cm,accuracy,clr,x_test,y_test=cmreport(DTC,x_test)\n",
    "    return classifier,cm,accuracy,clr,x_test,y_test"
   ]
  },
  {
   "cell_type": "code",
   "execution_count": 11,
   "id": "1a31e22b-b536-4990-8dd5-b66409ef6f6d",
   "metadata": {},
   "outputs": [],
   "source": [
    "def Random(x_train,y_train,x_test):\n",
    "    from sklearn.ensemble import RandomForestClassifier\n",
    "    RFC=RandomForestClassifier(n_estimators=10,criterion='entropy',random_state=0)\n",
    "    RFC.fit(x_train,y_train)\n",
    "    classifier,cm,accuracy,clr,x_test,y_test=cmreport(RFC,x_test)\n",
    "    return classifier,cm,accuracy,clr,x_test,y_test"
   ]
  },
  {
   "cell_type": "code",
   "execution_count": 12,
   "id": "28ae8290-af87-4ed3-ab3b-fed341a96527",
   "metadata": {},
   "outputs": [],
   "source": [
    "def selectkconfusion(acclog,accsvmli,accsvmnl,accnaive,accKNC,accdes,accran):\n",
    "    df=pd.DataFrame(index=['chisquare'],columns=['Logistic','SVMLinear','SVMnonlinear','GaussianNB','KNeighbors','Decision','Random'])\n",
    "    for number,idex in enumerate(df.index):\n",
    "        df['Logistic'][idex]=acclog[number]\n",
    "        df['SVMLinear'][idex]=accsvmli[number]\n",
    "        df['SVMnonlinear'][idex]=accsvmnl[number]\n",
    "        df['GaussianNB'][idex]=accnaive[number]\n",
    "        df['KNeighbors'][idex]=accKNC[number]\n",
    "        df['Decision'][idex]=accdes[number]\n",
    "        df['Random'][idex]=accran[number]\n",
    "        return df"
   ]
  },
  {
   "cell_type": "code",
   "execution_count": 13,
   "id": "f5981d31-2979-4ef0-a8cc-ff6935ae5fbb",
   "metadata": {},
   "outputs": [],
   "source": [
    "dataset=pd.read_csv(\"prep.csv\")"
   ]
  },
  {
   "cell_type": "code",
   "execution_count": 14,
   "id": "2b464e6c-77da-4f75-b42a-6e6224b51c90",
   "metadata": {},
   "outputs": [],
   "source": [
    "dataset=pd.get_dummies(dataset,drop_first=True)"
   ]
  },
  {
   "cell_type": "code",
   "execution_count": 15,
   "id": "a28193c3-4e58-40ea-ae99-f6c4d0380eba",
   "metadata": {},
   "outputs": [],
   "source": [
    "indepX=dataset.drop('classification_yes',axis=1)\n",
    "depY=dataset['classification_yes']"
   ]
  },
  {
   "cell_type": "code",
   "execution_count": 29,
   "id": "14de2ea5-9089-4431-8edb-be528c31afb5",
   "metadata": {},
   "outputs": [
    {
     "name": "stdout",
     "output_type": "stream",
     "text": [
      "The columns selected by selectkbestalgorithm:\n",
      "\n",
      "bgr\n",
      "bu\n",
      "sc\n",
      "pcv\n",
      "wc\n"
     ]
    }
   ],
   "source": [
    "kbest,features=featureselect(indepX,depY,5)\n",
    "print(\"The columns selected by selectkbestalgorithm:\\n\")\n",
    "for col in features:\n",
    "    print(col)"
   ]
  },
  {
   "cell_type": "code",
   "execution_count": 23,
   "id": "f0234887-ad44-479a-b9cf-acffb72b4a58",
   "metadata": {},
   "outputs": [],
   "source": [
    "x_train,x_test,y_train,y_test=split_scaler(kbest,depY)"
   ]
  },
  {
   "cell_type": "code",
   "execution_count": 18,
   "id": "4752f4b7-cc0b-4caf-9684-813ad71b7d92",
   "metadata": {},
   "outputs": [],
   "source": [
    "acclog=[]\n",
    "accsvmli=[]\n",
    "accsvmnl=[]\n",
    "accnaive=[]\n",
    "accKNC=[]\n",
    "accdes=[]\n",
    "accran=[]"
   ]
  },
  {
   "cell_type": "code",
   "execution_count": 19,
   "id": "b4501990-05fc-4b9a-979b-4e1291d43800",
   "metadata": {},
   "outputs": [],
   "source": [
    "classifier,cm,accuracy,clr,x_test,y_test=logistic(x_train,y_train,x_test)\n",
    "acclog.append(accuracy)\n",
    "classifier,cm,accuracy,clr,x_test,y_test=svmlinear(x_train,y_train,x_test)\n",
    "accsvmli.append(accuracy)\n",
    "classifier,cm,accuracy,clr,x_test,y_test=svmnl(x_train,y_train,x_test)\n",
    "accsvmnl.append(accuracy)\n",
    "classifier,cm,accuracy,clr,x_test,y_test=naive(x_train,y_train,x_test)\n",
    "accnaive.append(accuracy)\n",
    "classifier,cm,accuracy,clr,x_test,y_test=naive(x_train,y_train,x_test)\n",
    "accKNC.append(accuracy)\n",
    "classifier,cm,accuracy,clr,x_test,y_test=Decision(x_train,y_train,x_test)\n",
    "accdes.append(accuracy)\n",
    "classifier,cm,accuracy,clr,x_test,y_test=Decision(x_train,y_train,x_test)\n",
    "accran.append(accuracy)"
   ]
  },
  {
   "cell_type": "code",
   "execution_count": 20,
   "id": "4425c358-d492-4612-a006-3daf623f153e",
   "metadata": {},
   "outputs": [
    {
     "name": "stderr",
     "output_type": "stream",
     "text": [
      "C:\\Users\\Admin\\AppData\\Local\\Temp\\ipykernel_4420\\904356107.py:4: FutureWarning: ChainedAssignmentError: behaviour will change in pandas 3.0!\n",
      "You are setting values through chained assignment. Currently this works in certain cases, but when using Copy-on-Write (which will become the default behaviour in pandas 3.0) this will never work to update the original DataFrame or Series, because the intermediate object on which we are setting values will behave as a copy.\n",
      "A typical example is when you are setting values in a column of a DataFrame, like:\n",
      "\n",
      "df[\"col\"][row_indexer] = value\n",
      "\n",
      "Use `df.loc[row_indexer, \"col\"] = values` instead, to perform the assignment in a single step and ensure this keeps updating the original `df`.\n",
      "\n",
      "See the caveats in the documentation: https://pandas.pydata.org/pandas-docs/stable/user_guide/indexing.html#returning-a-view-versus-a-copy\n",
      "\n",
      "  df['Logistic'][idex]=acclog[number]\n",
      "C:\\Users\\Admin\\AppData\\Local\\Temp\\ipykernel_4420\\904356107.py:5: FutureWarning: ChainedAssignmentError: behaviour will change in pandas 3.0!\n",
      "You are setting values through chained assignment. Currently this works in certain cases, but when using Copy-on-Write (which will become the default behaviour in pandas 3.0) this will never work to update the original DataFrame or Series, because the intermediate object on which we are setting values will behave as a copy.\n",
      "A typical example is when you are setting values in a column of a DataFrame, like:\n",
      "\n",
      "df[\"col\"][row_indexer] = value\n",
      "\n",
      "Use `df.loc[row_indexer, \"col\"] = values` instead, to perform the assignment in a single step and ensure this keeps updating the original `df`.\n",
      "\n",
      "See the caveats in the documentation: https://pandas.pydata.org/pandas-docs/stable/user_guide/indexing.html#returning-a-view-versus-a-copy\n",
      "\n",
      "  df['SVMLinear'][idex]=accsvmli[number]\n",
      "C:\\Users\\Admin\\AppData\\Local\\Temp\\ipykernel_4420\\904356107.py:6: FutureWarning: ChainedAssignmentError: behaviour will change in pandas 3.0!\n",
      "You are setting values through chained assignment. Currently this works in certain cases, but when using Copy-on-Write (which will become the default behaviour in pandas 3.0) this will never work to update the original DataFrame or Series, because the intermediate object on which we are setting values will behave as a copy.\n",
      "A typical example is when you are setting values in a column of a DataFrame, like:\n",
      "\n",
      "df[\"col\"][row_indexer] = value\n",
      "\n",
      "Use `df.loc[row_indexer, \"col\"] = values` instead, to perform the assignment in a single step and ensure this keeps updating the original `df`.\n",
      "\n",
      "See the caveats in the documentation: https://pandas.pydata.org/pandas-docs/stable/user_guide/indexing.html#returning-a-view-versus-a-copy\n",
      "\n",
      "  df['SVMnonlinear'][idex]=accsvmnl[number]\n",
      "C:\\Users\\Admin\\AppData\\Local\\Temp\\ipykernel_4420\\904356107.py:7: FutureWarning: ChainedAssignmentError: behaviour will change in pandas 3.0!\n",
      "You are setting values through chained assignment. Currently this works in certain cases, but when using Copy-on-Write (which will become the default behaviour in pandas 3.0) this will never work to update the original DataFrame or Series, because the intermediate object on which we are setting values will behave as a copy.\n",
      "A typical example is when you are setting values in a column of a DataFrame, like:\n",
      "\n",
      "df[\"col\"][row_indexer] = value\n",
      "\n",
      "Use `df.loc[row_indexer, \"col\"] = values` instead, to perform the assignment in a single step and ensure this keeps updating the original `df`.\n",
      "\n",
      "See the caveats in the documentation: https://pandas.pydata.org/pandas-docs/stable/user_guide/indexing.html#returning-a-view-versus-a-copy\n",
      "\n",
      "  df['GaussianNB'][idex]=accnaive[number]\n",
      "C:\\Users\\Admin\\AppData\\Local\\Temp\\ipykernel_4420\\904356107.py:8: FutureWarning: ChainedAssignmentError: behaviour will change in pandas 3.0!\n",
      "You are setting values through chained assignment. Currently this works in certain cases, but when using Copy-on-Write (which will become the default behaviour in pandas 3.0) this will never work to update the original DataFrame or Series, because the intermediate object on which we are setting values will behave as a copy.\n",
      "A typical example is when you are setting values in a column of a DataFrame, like:\n",
      "\n",
      "df[\"col\"][row_indexer] = value\n",
      "\n",
      "Use `df.loc[row_indexer, \"col\"] = values` instead, to perform the assignment in a single step and ensure this keeps updating the original `df`.\n",
      "\n",
      "See the caveats in the documentation: https://pandas.pydata.org/pandas-docs/stable/user_guide/indexing.html#returning-a-view-versus-a-copy\n",
      "\n",
      "  df['KNeighbors'][idex]=accKNC[number]\n",
      "C:\\Users\\Admin\\AppData\\Local\\Temp\\ipykernel_4420\\904356107.py:9: FutureWarning: ChainedAssignmentError: behaviour will change in pandas 3.0!\n",
      "You are setting values through chained assignment. Currently this works in certain cases, but when using Copy-on-Write (which will become the default behaviour in pandas 3.0) this will never work to update the original DataFrame or Series, because the intermediate object on which we are setting values will behave as a copy.\n",
      "A typical example is when you are setting values in a column of a DataFrame, like:\n",
      "\n",
      "df[\"col\"][row_indexer] = value\n",
      "\n",
      "Use `df.loc[row_indexer, \"col\"] = values` instead, to perform the assignment in a single step and ensure this keeps updating the original `df`.\n",
      "\n",
      "See the caveats in the documentation: https://pandas.pydata.org/pandas-docs/stable/user_guide/indexing.html#returning-a-view-versus-a-copy\n",
      "\n",
      "  df['Decision'][idex]=accdes[number]\n",
      "C:\\Users\\Admin\\AppData\\Local\\Temp\\ipykernel_4420\\904356107.py:10: FutureWarning: ChainedAssignmentError: behaviour will change in pandas 3.0!\n",
      "You are setting values through chained assignment. Currently this works in certain cases, but when using Copy-on-Write (which will become the default behaviour in pandas 3.0) this will never work to update the original DataFrame or Series, because the intermediate object on which we are setting values will behave as a copy.\n",
      "A typical example is when you are setting values in a column of a DataFrame, like:\n",
      "\n",
      "df[\"col\"][row_indexer] = value\n",
      "\n",
      "Use `df.loc[row_indexer, \"col\"] = values` instead, to perform the assignment in a single step and ensure this keeps updating the original `df`.\n",
      "\n",
      "See the caveats in the documentation: https://pandas.pydata.org/pandas-docs/stable/user_guide/indexing.html#returning-a-view-versus-a-copy\n",
      "\n",
      "  df['Random'][idex]=accran[number]\n"
     ]
    },
    {
     "data": {
      "text/html": [
       "<div>\n",
       "<style scoped>\n",
       "    .dataframe tbody tr th:only-of-type {\n",
       "        vertical-align: middle;\n",
       "    }\n",
       "\n",
       "    .dataframe tbody tr th {\n",
       "        vertical-align: top;\n",
       "    }\n",
       "\n",
       "    .dataframe thead th {\n",
       "        text-align: right;\n",
       "    }\n",
       "</style>\n",
       "<table border=\"1\" class=\"dataframe\">\n",
       "  <thead>\n",
       "    <tr style=\"text-align: right;\">\n",
       "      <th></th>\n",
       "      <th>Logistic</th>\n",
       "      <th>SVMLinear</th>\n",
       "      <th>SVMnonlinear</th>\n",
       "      <th>GaussianNB</th>\n",
       "      <th>KNeighbors</th>\n",
       "      <th>Decision</th>\n",
       "      <th>Random</th>\n",
       "    </tr>\n",
       "  </thead>\n",
       "  <tbody>\n",
       "    <tr>\n",
       "      <th>chisquare</th>\n",
       "      <td>0.941667</td>\n",
       "      <td>0.941667</td>\n",
       "      <td>0.95</td>\n",
       "      <td>0.841667</td>\n",
       "      <td>0.841667</td>\n",
       "      <td>0.958333</td>\n",
       "      <td>0.958333</td>\n",
       "    </tr>\n",
       "  </tbody>\n",
       "</table>\n",
       "</div>"
      ],
      "text/plain": [
       "           Logistic SVMLinear SVMnonlinear GaussianNB KNeighbors  Decision  \\\n",
       "chisquare  0.941667  0.941667         0.95   0.841667   0.841667  0.958333   \n",
       "\n",
       "             Random  \n",
       "chisquare  0.958333  "
      ]
     },
     "execution_count": 20,
     "metadata": {},
     "output_type": "execute_result"
    }
   ],
   "source": [
    "result=selectkconfusion(acclog,accsvmli,accsvmnl,accnaive,accKNC,accdes,accran)\n",
    "result"
   ]
  },
  {
   "cell_type": "code",
   "execution_count": null,
   "id": "33cdaf9e-f304-4757-ac4d-f4916368c1e5",
   "metadata": {},
   "outputs": [],
   "source": []
  }
 ],
 "metadata": {
  "kernelspec": {
   "display_name": "Python 3 (ipykernel)",
   "language": "python",
   "name": "python3"
  },
  "language_info": {
   "codemirror_mode": {
    "name": "ipython",
    "version": 3
   },
   "file_extension": ".py",
   "mimetype": "text/x-python",
   "name": "python",
   "nbconvert_exporter": "python",
   "pygments_lexer": "ipython3",
   "version": "3.12.4"
  }
 },
 "nbformat": 4,
 "nbformat_minor": 5
}
