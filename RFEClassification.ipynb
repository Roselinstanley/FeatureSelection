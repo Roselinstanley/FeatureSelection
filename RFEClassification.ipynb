{
 "cells": [
  {
   "cell_type": "code",
   "execution_count": 1,
   "id": "49d64d8f-ff3a-43e7-bb7f-c1f19fe0cf9d",
   "metadata": {},
   "outputs": [],
   "source": [
    "import pandas as pd\n",
    "import numpy as np\n",
    "from sklearn.preprocessing import StandardScaler\n",
    "from sklearn.model_selection import train_test_split\n",
    "from sklearn.feature_selection import RFE\n",
    "from sklearn.linear_model import LogisticRegression\n",
    "from sklearn.neighbors import KNeighborsClassifier\n",
    "from sklearn.naive_bayes import GaussianNB\n",
    "from sklearn.svm import SVC\n",
    "from sklearn.naive_bayes import GaussianNB\n",
    "from sklearn.tree import DecisionTreeClassifier\n",
    "from sklearn.ensemble import RandomForestClassifier"
   ]
  },
  {
   "cell_type": "code",
   "execution_count": 2,
   "id": "99ef5add-60f3-4450-a1ff-8dc6bc6b88e9",
   "metadata": {},
   "outputs": [],
   "source": [
    "rfefeaturelist=[]\n",
    "def rfeselect(indepX,depY,n):\n",
    "    LR=LogisticRegression(solver='liblinear', max_iter=200)\n",
    "    RF = RandomForestClassifier(n_estimators = 5, criterion = 'entropy', random_state = 0)\n",
    "    DT= DecisionTreeClassifier(criterion = 'gini', max_features='sqrt',splitter='best',random_state = 0)\n",
    "    svc_model = SVC(kernel = 'linear', random_state = 0)\n",
    "    RFEmodellist=[LR,RF,DT,svc_model]\n",
    "    for i in RFEmodellist:\n",
    "        print(i)\n",
    "        RFEscorefunc=RFE(estimator=i, n_features_to_select=n)\n",
    "        RFEfit=RFEscorefunc.fit(indepX,depY)\n",
    "        RFEfea=RFEfit.transform(indepX)\n",
    "        selected_indices =RFEfit.get_support(indices=True)\n",
    "        feature_names = indepX.columns[selected_indices]\n",
    "        print(\"The selected feature of:\",i)\n",
    "        for col in feature_names:\n",
    "            print(col)\n",
    "        rfefeaturelist.append(RFEfea)\n",
    "    return rfefeaturelist"
   ]
  },
  {
   "cell_type": "code",
   "execution_count": 3,
   "id": "96a6e464-5262-4541-852a-c13759c4de49",
   "metadata": {},
   "outputs": [],
   "source": [
    "def split(indepX,depY):\n",
    "    x_train,x_test,y_train,y_test=train_test_split(indepX,depY,test_size=0.30,random_state=0)\n",
    "    SC=StandardScaler()\n",
    "    x_train=SC.fit_transform(x_train)\n",
    "    x_test=SC.transform(x_test)\n",
    "    return x_train,x_test,y_train,y_test"
   ]
  },
  {
   "cell_type": "code",
   "execution_count": 4,
   "id": "11ad1514-d44a-4609-bd2a-df55a377db9d",
   "metadata": {},
   "outputs": [],
   "source": [
    "def confmat(classifier,x_test):\n",
    "    y_pred=classifier.predict(x_test)\n",
    "    from sklearn.metrics import confusion_matrix\n",
    "    cm=confusion_matrix(y_test,y_pred)\n",
    "    from sklearn.metrics import classification_report\n",
    "    from sklearn.metrics import accuracy_score\n",
    "    accuracy=accuracy_score(y_test,y_pred)\n",
    "    clr=classification_report(y_test,y_pred)\n",
    "    return classifier,accuracy,clr,x_test,y_test,cm  "
   ]
  },
  {
   "cell_type": "code",
   "execution_count": 5,
   "id": "aef962c1-0b41-4d4c-ad49-81a0f5f5c17a",
   "metadata": {},
   "outputs": [],
   "source": [
    "def linear(x_train,y_train,x_test):\n",
    "    lr=LogisticRegression(random_state=0)\n",
    "    lr.fit(x_train,y_train)\n",
    "    classifier,accuracy,clr,x_test,y_test,cm=confmat(lr,x_test)\n",
    "    return classifier,accuracy,clr,x_test,y_test,cm"
   ]
  },
  {
   "cell_type": "code",
   "execution_count": 6,
   "id": "fe8c380f-edff-49eb-9f15-45e0adcc9b6b",
   "metadata": {},
   "outputs": [],
   "source": [
    "def svml(x_train,y_train,x_test):\n",
    "    svl=SVC(kernel = 'linear', random_state = 0)\n",
    "    svl.fit(x_train,y_train)\n",
    "    classifier,accuracy,clr,x_test,y_test,cm=confmat(svl,x_test)\n",
    "    return classifier,accuracy,clr,x_test,y_test,cm"
   ]
  },
  {
   "cell_type": "code",
   "execution_count": 7,
   "id": "20a06414-d4c2-49d4-86ab-86169ab6adff",
   "metadata": {},
   "outputs": [],
   "source": [
    "def svmnl(x_train,y_train,x_test):\n",
    "    svl=SVC(kernel = 'rbf', random_state = 0)\n",
    "    svl.fit(x_train,y_train)\n",
    "    classifier,accuracy,clr,x_test,y_test,cm=confmat(svl,x_test)\n",
    "    return classifier,accuracy,clr,x_test,y_test,cm"
   ]
  },
  {
   "cell_type": "code",
   "execution_count": 8,
   "id": "ed302279-0c59-43dd-9085-0c42f24a034e",
   "metadata": {},
   "outputs": [],
   "source": [
    "def naive(x_train,y_train,x_test):\n",
    "    gnb=GaussianNB()\n",
    "    gnb.fit(x_train,y_train)\n",
    "    classifier,accuracy,clr,x_test,y_test,cm=confmat(gnb,x_test)\n",
    "    return classifier,accuracy,clr,x_test,y_test,cm"
   ]
  },
  {
   "cell_type": "code",
   "execution_count": 9,
   "id": "d9d730da-b938-4c22-b670-f228442c5cdf",
   "metadata": {},
   "outputs": [],
   "source": [
    "def knn(x_train,y_train,x_test):\n",
    "    kn=KNeighborsClassifier(n_neighbors = 5, metric = 'minkowski', p = 2)\n",
    "    kn.fit(x_train,y_train)\n",
    "    classifier,accuracy,clr,x_test,y_test,cm=confmat(kn,x_test)\n",
    "    return classifier,accuracy,clr,x_test,y_test,cm"
   ]
  },
  {
   "cell_type": "code",
   "execution_count": 10,
   "id": "3d700747-7fc6-4c1a-9780-4e03f0ca2ac7",
   "metadata": {},
   "outputs": [],
   "source": [
    "def Decision(x_train,y_train,x_test):\n",
    "    DT=DecisionTreeClassifier(criterion = 'entropy',random_state = 0)\n",
    "    DT.fit(x_train,y_train)\n",
    "    classifier,accuracy,clr,x_test,y_test,cm=confmat(DT,x_test)\n",
    "    return classifier,accuracy,clr,x_test,y_test,cm"
   ]
  },
  {
   "cell_type": "code",
   "execution_count": 11,
   "id": "7d2c17cd-6659-45ba-b2a5-8e5a2fe49191",
   "metadata": {},
   "outputs": [],
   "source": [
    "def Random(x_train,y_train,x_test):\n",
    "    Rf=RandomForestClassifier(n_estimators = 10, criterion = 'entropy', random_state = 0)\n",
    "    Rf.fit(x_train,y_train)\n",
    "    classifier,accuracy,clr,x_test,y_test,cm=confmat(Rf,x_test)\n",
    "    return classifier,accuracy,clr,x_test,y_test,cm"
   ]
  },
  {
   "cell_type": "code",
   "execution_count": 12,
   "id": "d121dc4a-8ed3-4ac6-b458-db1dc1c5d9cd",
   "metadata": {},
   "outputs": [],
   "source": [
    "def rfe_result(acclinear,accsvml,accsvmnl,accnai,accknn,accdec,accran):\n",
    "    df=pd.DataFrame(index=['Logistic','SVM','Decision','Random'],columns=['Linear','SVML','SVMNL','GuassianNB','KNearest','Decision','Random'])\n",
    "    for num,idex in enumerate(df.index):\n",
    "        df['Linear'][idex]=acclinear[num]\n",
    "        df['SVML'][idex]=accsvml[num]\n",
    "        df['SVMNL'][idex]=accsvmnl[num]\n",
    "        df['GuassianNB'][idex]=accnai[num]\n",
    "        df['KNearest'][idex]=accknn[num]\n",
    "        df['Decision'][idex]=accdec[num]\n",
    "        df['Random'][idex]=accsvml[num]\n",
    "    return df"
   ]
  },
  {
   "cell_type": "code",
   "execution_count": 13,
   "id": "36802d02-dfff-47e1-949a-78561d687a5d",
   "metadata": {},
   "outputs": [],
   "source": [
    "acclinear=[]\n",
    "accsvml=[]\n",
    "accsvmnl=[]\n",
    "accnai=[]\n",
    "accknn=[]\n",
    "accdec=[]\n",
    "accran=[]"
   ]
  },
  {
   "cell_type": "code",
   "execution_count": 14,
   "id": "6f491c83-58d3-483d-a241-6a8614cbdb67",
   "metadata": {},
   "outputs": [],
   "source": [
    "dataset=pd.read_csv(\"prep.csv\",index_col=None)"
   ]
  },
  {
   "cell_type": "code",
   "execution_count": 15,
   "id": "e1b031dd-61fc-43d2-83cf-97b2fd59f5c0",
   "metadata": {},
   "outputs": [],
   "source": [
    "dataset=pd.get_dummies(dataset,drop_first=True)"
   ]
  },
  {
   "cell_type": "code",
   "execution_count": 16,
   "id": "8fcc7b0d-d428-41ab-bf0a-b214eb123bac",
   "metadata": {},
   "outputs": [],
   "source": [
    "indepX=dataset.drop('classification_yes',axis=1)\n",
    "depY=dataset['classification_yes']"
   ]
  },
  {
   "cell_type": "code",
   "execution_count": 17,
   "id": "ab2bb6f2-774a-4155-986e-cf2c2c2f6099",
   "metadata": {},
   "outputs": [
    {
     "name": "stdout",
     "output_type": "stream",
     "text": [
      "LogisticRegression(max_iter=200, solver='liblinear')\n",
      "The selected feature of: LogisticRegression(max_iter=200, solver='liblinear')\n",
      "sg_c\n",
      "sg_d\n",
      "htn_yes\n",
      "dm_yes\n",
      "RandomForestClassifier(criterion='entropy', n_estimators=5, random_state=0)\n",
      "The selected feature of: RandomForestClassifier(criterion='entropy', n_estimators=5, random_state=0)\n",
      "bgr\n",
      "sc\n",
      "hrmo\n",
      "pcv\n",
      "DecisionTreeClassifier(max_features='sqrt', random_state=0)\n",
      "The selected feature of: DecisionTreeClassifier(max_features='sqrt', random_state=0)\n",
      "hrmo\n",
      "sg_c\n",
      "rbc_normal\n",
      "dm_yes\n",
      "SVC(kernel='linear', random_state=0)\n",
      "The selected feature of: SVC(kernel='linear', random_state=0)\n",
      "sg_c\n",
      "sg_d\n",
      "dm_yes\n",
      "appet_yes\n"
     ]
    }
   ],
   "source": [
    "RFEfeature=rfeselect(indepX,depY,4)"
   ]
  },
  {
   "cell_type": "code",
   "execution_count": 18,
   "id": "0fb90953-ed34-48ee-ad6f-72c6ea82d03c",
   "metadata": {},
   "outputs": [
    {
     "name": "stderr",
     "output_type": "stream",
     "text": [
      "C:\\Users\\Admin\\AppData\\Local\\Temp\\ipykernel_14668\\1665806642.py:4: FutureWarning: ChainedAssignmentError: behaviour will change in pandas 3.0!\n",
      "You are setting values through chained assignment. Currently this works in certain cases, but when using Copy-on-Write (which will become the default behaviour in pandas 3.0) this will never work to update the original DataFrame or Series, because the intermediate object on which we are setting values will behave as a copy.\n",
      "A typical example is when you are setting values in a column of a DataFrame, like:\n",
      "\n",
      "df[\"col\"][row_indexer] = value\n",
      "\n",
      "Use `df.loc[row_indexer, \"col\"] = values` instead, to perform the assignment in a single step and ensure this keeps updating the original `df`.\n",
      "\n",
      "See the caveats in the documentation: https://pandas.pydata.org/pandas-docs/stable/user_guide/indexing.html#returning-a-view-versus-a-copy\n",
      "\n",
      "  df['Linear'][idex]=acclinear[num]\n",
      "C:\\Users\\Admin\\AppData\\Local\\Temp\\ipykernel_14668\\1665806642.py:5: FutureWarning: ChainedAssignmentError: behaviour will change in pandas 3.0!\n",
      "You are setting values through chained assignment. Currently this works in certain cases, but when using Copy-on-Write (which will become the default behaviour in pandas 3.0) this will never work to update the original DataFrame or Series, because the intermediate object on which we are setting values will behave as a copy.\n",
      "A typical example is when you are setting values in a column of a DataFrame, like:\n",
      "\n",
      "df[\"col\"][row_indexer] = value\n",
      "\n",
      "Use `df.loc[row_indexer, \"col\"] = values` instead, to perform the assignment in a single step and ensure this keeps updating the original `df`.\n",
      "\n",
      "See the caveats in the documentation: https://pandas.pydata.org/pandas-docs/stable/user_guide/indexing.html#returning-a-view-versus-a-copy\n",
      "\n",
      "  df['SVML'][idex]=accsvml[num]\n",
      "C:\\Users\\Admin\\AppData\\Local\\Temp\\ipykernel_14668\\1665806642.py:6: FutureWarning: ChainedAssignmentError: behaviour will change in pandas 3.0!\n",
      "You are setting values through chained assignment. Currently this works in certain cases, but when using Copy-on-Write (which will become the default behaviour in pandas 3.0) this will never work to update the original DataFrame or Series, because the intermediate object on which we are setting values will behave as a copy.\n",
      "A typical example is when you are setting values in a column of a DataFrame, like:\n",
      "\n",
      "df[\"col\"][row_indexer] = value\n",
      "\n",
      "Use `df.loc[row_indexer, \"col\"] = values` instead, to perform the assignment in a single step and ensure this keeps updating the original `df`.\n",
      "\n",
      "See the caveats in the documentation: https://pandas.pydata.org/pandas-docs/stable/user_guide/indexing.html#returning-a-view-versus-a-copy\n",
      "\n",
      "  df['SVMNL'][idex]=accsvmnl[num]\n",
      "C:\\Users\\Admin\\AppData\\Local\\Temp\\ipykernel_14668\\1665806642.py:7: FutureWarning: ChainedAssignmentError: behaviour will change in pandas 3.0!\n",
      "You are setting values through chained assignment. Currently this works in certain cases, but when using Copy-on-Write (which will become the default behaviour in pandas 3.0) this will never work to update the original DataFrame or Series, because the intermediate object on which we are setting values will behave as a copy.\n",
      "A typical example is when you are setting values in a column of a DataFrame, like:\n",
      "\n",
      "df[\"col\"][row_indexer] = value\n",
      "\n",
      "Use `df.loc[row_indexer, \"col\"] = values` instead, to perform the assignment in a single step and ensure this keeps updating the original `df`.\n",
      "\n",
      "See the caveats in the documentation: https://pandas.pydata.org/pandas-docs/stable/user_guide/indexing.html#returning-a-view-versus-a-copy\n",
      "\n",
      "  df['GuassianNB'][idex]=accnai[num]\n",
      "C:\\Users\\Admin\\AppData\\Local\\Temp\\ipykernel_14668\\1665806642.py:8: FutureWarning: ChainedAssignmentError: behaviour will change in pandas 3.0!\n",
      "You are setting values through chained assignment. Currently this works in certain cases, but when using Copy-on-Write (which will become the default behaviour in pandas 3.0) this will never work to update the original DataFrame or Series, because the intermediate object on which we are setting values will behave as a copy.\n",
      "A typical example is when you are setting values in a column of a DataFrame, like:\n",
      "\n",
      "df[\"col\"][row_indexer] = value\n",
      "\n",
      "Use `df.loc[row_indexer, \"col\"] = values` instead, to perform the assignment in a single step and ensure this keeps updating the original `df`.\n",
      "\n",
      "See the caveats in the documentation: https://pandas.pydata.org/pandas-docs/stable/user_guide/indexing.html#returning-a-view-versus-a-copy\n",
      "\n",
      "  df['KNearest'][idex]=accknn[num]\n",
      "C:\\Users\\Admin\\AppData\\Local\\Temp\\ipykernel_14668\\1665806642.py:9: FutureWarning: ChainedAssignmentError: behaviour will change in pandas 3.0!\n",
      "You are setting values through chained assignment. Currently this works in certain cases, but when using Copy-on-Write (which will become the default behaviour in pandas 3.0) this will never work to update the original DataFrame or Series, because the intermediate object on which we are setting values will behave as a copy.\n",
      "A typical example is when you are setting values in a column of a DataFrame, like:\n",
      "\n",
      "df[\"col\"][row_indexer] = value\n",
      "\n",
      "Use `df.loc[row_indexer, \"col\"] = values` instead, to perform the assignment in a single step and ensure this keeps updating the original `df`.\n",
      "\n",
      "See the caveats in the documentation: https://pandas.pydata.org/pandas-docs/stable/user_guide/indexing.html#returning-a-view-versus-a-copy\n",
      "\n",
      "  df['Decision'][idex]=accdec[num]\n",
      "C:\\Users\\Admin\\AppData\\Local\\Temp\\ipykernel_14668\\1665806642.py:10: FutureWarning: ChainedAssignmentError: behaviour will change in pandas 3.0!\n",
      "You are setting values through chained assignment. Currently this works in certain cases, but when using Copy-on-Write (which will become the default behaviour in pandas 3.0) this will never work to update the original DataFrame or Series, because the intermediate object on which we are setting values will behave as a copy.\n",
      "A typical example is when you are setting values in a column of a DataFrame, like:\n",
      "\n",
      "df[\"col\"][row_indexer] = value\n",
      "\n",
      "Use `df.loc[row_indexer, \"col\"] = values` instead, to perform the assignment in a single step and ensure this keeps updating the original `df`.\n",
      "\n",
      "See the caveats in the documentation: https://pandas.pydata.org/pandas-docs/stable/user_guide/indexing.html#returning-a-view-versus-a-copy\n",
      "\n",
      "  df['Random'][idex]=accsvml[num]\n"
     ]
    }
   ],
   "source": [
    "for i in RFEfeature:\n",
    "    x_train,x_test,y_train,y_test=split(i,depY)\n",
    "    classifier,accuracy,clr,x_test,y_test,cm=linear(x_train,y_train,x_test)\n",
    "    acclinear.append(accuracy)\n",
    "    classifier,accuracy,clr,x_test,y_test,cm=svml(x_train,y_train,x_test)\n",
    "    accsvml.append(accuracy)\n",
    "    classifier,accuracy,clr,x_test,y_test,cm=svmnl(x_train,y_train,x_test)\n",
    "    accsvmnl.append(accuracy)\n",
    "    classifier,accuracy,clr,x_test,y_test,cm=naive(x_train,y_train,x_test)\n",
    "    accnai.append(accuracy)\n",
    "    classifier,accuracy,clr,x_test,y_test,cm=knn(x_train,y_train,x_test)\n",
    "    accknn.append(accuracy)\n",
    "    classifier,accuracy,clr,x_test,y_test,cm=Decision(x_train,y_train,x_test)\n",
    "    accdec.append(accuracy)\n",
    "    classifier,accuracy,clr,x_test,y_test,cm=Random(x_train,y_train,x_test)\n",
    "    accran.append(accuracy)\n",
    "result=rfe_result(acclinear,accsvml,accsvmnl,accnai,accknn,accdec,accran)"
   ]
  },
  {
   "cell_type": "code",
   "execution_count": 19,
   "id": "932f17ed-1a0f-4835-bd37-58fe9b000415",
   "metadata": {},
   "outputs": [
    {
     "data": {
      "text/html": [
       "<div>\n",
       "<style scoped>\n",
       "    .dataframe tbody tr th:only-of-type {\n",
       "        vertical-align: middle;\n",
       "    }\n",
       "\n",
       "    .dataframe tbody tr th {\n",
       "        vertical-align: top;\n",
       "    }\n",
       "\n",
       "    .dataframe thead th {\n",
       "        text-align: right;\n",
       "    }\n",
       "</style>\n",
       "<table border=\"1\" class=\"dataframe\">\n",
       "  <thead>\n",
       "    <tr style=\"text-align: right;\">\n",
       "      <th></th>\n",
       "      <th>Linear</th>\n",
       "      <th>SVML</th>\n",
       "      <th>SVMNL</th>\n",
       "      <th>GuassianNB</th>\n",
       "      <th>KNearest</th>\n",
       "      <th>Decision</th>\n",
       "      <th>Random</th>\n",
       "    </tr>\n",
       "  </thead>\n",
       "  <tbody>\n",
       "    <tr>\n",
       "      <th>Logistic</th>\n",
       "      <td>0.95</td>\n",
       "      <td>0.95</td>\n",
       "      <td>0.95</td>\n",
       "      <td>0.95</td>\n",
       "      <td>0.95</td>\n",
       "      <td>0.95</td>\n",
       "      <td>0.95</td>\n",
       "    </tr>\n",
       "    <tr>\n",
       "      <th>SVM</th>\n",
       "      <td>0.95</td>\n",
       "      <td>0.95</td>\n",
       "      <td>0.95</td>\n",
       "      <td>0.891667</td>\n",
       "      <td>0.941667</td>\n",
       "      <td>0.95</td>\n",
       "      <td>0.95</td>\n",
       "    </tr>\n",
       "    <tr>\n",
       "      <th>Decision</th>\n",
       "      <td>0.975</td>\n",
       "      <td>0.916667</td>\n",
       "      <td>0.916667</td>\n",
       "      <td>0.816667</td>\n",
       "      <td>0.975</td>\n",
       "      <td>0.975</td>\n",
       "      <td>0.916667</td>\n",
       "    </tr>\n",
       "    <tr>\n",
       "      <th>Random</th>\n",
       "      <td>0.958333</td>\n",
       "      <td>0.958333</td>\n",
       "      <td>0.958333</td>\n",
       "      <td>0.958333</td>\n",
       "      <td>0.958333</td>\n",
       "      <td>0.958333</td>\n",
       "      <td>0.958333</td>\n",
       "    </tr>\n",
       "  </tbody>\n",
       "</table>\n",
       "</div>"
      ],
      "text/plain": [
       "            Linear      SVML     SVMNL GuassianNB  KNearest  Decision  \\\n",
       "Logistic      0.95      0.95      0.95       0.95      0.95      0.95   \n",
       "SVM           0.95      0.95      0.95   0.891667  0.941667      0.95   \n",
       "Decision     0.975  0.916667  0.916667   0.816667     0.975     0.975   \n",
       "Random    0.958333  0.958333  0.958333   0.958333  0.958333  0.958333   \n",
       "\n",
       "            Random  \n",
       "Logistic      0.95  \n",
       "SVM           0.95  \n",
       "Decision  0.916667  \n",
       "Random    0.958333  "
      ]
     },
     "execution_count": 19,
     "metadata": {},
     "output_type": "execute_result"
    }
   ],
   "source": [
    "result"
   ]
  }
 ],
 "metadata": {
  "kernelspec": {
   "display_name": "Python 3 (ipykernel)",
   "language": "python",
   "name": "python3"
  },
  "language_info": {
   "codemirror_mode": {
    "name": "ipython",
    "version": 3
   },
   "file_extension": ".py",
   "mimetype": "text/x-python",
   "name": "python",
   "nbconvert_exporter": "python",
   "pygments_lexer": "ipython3",
   "version": "3.12.4"
  }
 },
 "nbformat": 4,
 "nbformat_minor": 5
}
